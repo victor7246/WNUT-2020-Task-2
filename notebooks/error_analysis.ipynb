{
 "cells": [
  {
   "cell_type": "code",
   "execution_count": 2,
   "metadata": {},
   "outputs": [
    {
     "name": "stderr",
     "output_type": "stream",
     "text": [
      "I0904 09:56:23.150138 4554018240 file_utils.py:41] PyTorch version 1.5.0 available.\n",
      "I0904 09:56:23.151214 4554018240 file_utils.py:57] TensorFlow version 2.2.0-rc3 available.\n"
     ]
    }
   ],
   "source": [
    "import os\n",
    "import sys\n",
    "\n",
    "sys.path.append(os.path.join(os.getcwd(), '../'))\n",
    "\n",
    "import pandas as pd\n",
    "import numpy as np\n",
    "\n",
    "import torch\n",
    "from captum.attr import LayerIntegratedGradients, TokenReferenceBase, visualization\n",
    "\n",
    "from src import data, models"
   ]
  },
  {
   "cell_type": "code",
   "execution_count": 4,
   "metadata": {},
   "outputs": [],
   "source": [
    "val_df = data.load_data.load_custom_text_as_pd('../data/raw/COVID19Tweet/valid.tsv',sep='\\t', header=False, \\\n",
    "                          text_column=['Text'],target_column=['Label'])\n",
    "val_df = pd.DataFrame(val_df,copy=False)\n",
    "val_df.columns = ['Id','words','labels']"
   ]
  },
  {
   "cell_type": "code",
   "execution_count": 5,
   "metadata": {},
   "outputs": [
    {
     "data": {
      "text/html": [
       "<div>\n",
       "<style scoped>\n",
       "    .dataframe tbody tr th:only-of-type {\n",
       "        vertical-align: middle;\n",
       "    }\n",
       "\n",
       "    .dataframe tbody tr th {\n",
       "        vertical-align: top;\n",
       "    }\n",
       "\n",
       "    .dataframe thead th {\n",
       "        text-align: right;\n",
       "    }\n",
       "</style>\n",
       "<table border=\"1\" class=\"dataframe\">\n",
       "  <thead>\n",
       "    <tr style=\"text-align: right;\">\n",
       "      <th></th>\n",
       "      <th>Id</th>\n",
       "      <th>words</th>\n",
       "      <th>labels</th>\n",
       "    </tr>\n",
       "  </thead>\n",
       "  <tbody>\n",
       "    <tr>\n",
       "      <th>0</th>\n",
       "      <td>1241728922192142336</td>\n",
       "      <td>For those saying Pakistan isn’t Italy; After 3...</td>\n",
       "      <td>UNINFORMATIVE</td>\n",
       "    </tr>\n",
       "    <tr>\n",
       "      <th>1</th>\n",
       "      <td>1235713405992030209</td>\n",
       "      <td>Second case DR 🇩🇴 The Canadian woman has not b...</td>\n",
       "      <td>INFORMATIVE</td>\n",
       "    </tr>\n",
       "    <tr>\n",
       "      <th>2</th>\n",
       "      <td>1245941302367305728</td>\n",
       "      <td>Kill Chain: the cyber war on America's electio...</td>\n",
       "      <td>UNINFORMATIVE</td>\n",
       "    </tr>\n",
       "    <tr>\n",
       "      <th>3</th>\n",
       "      <td>1245913002840391681</td>\n",
       "      <td>Town hosts FIRST #Virtual #TownCouncil meeting...</td>\n",
       "      <td>UNINFORMATIVE</td>\n",
       "    </tr>\n",
       "    <tr>\n",
       "      <th>4</th>\n",
       "      <td>1240543259299987457</td>\n",
       "      <td>Report suggested that the actual number of und...</td>\n",
       "      <td>UNINFORMATIVE</td>\n",
       "    </tr>\n",
       "  </tbody>\n",
       "</table>\n",
       "</div>"
      ],
      "text/plain": [
       "                    Id                                              words  \\\n",
       "0  1241728922192142336  For those saying Pakistan isn’t Italy; After 3...   \n",
       "1  1235713405992030209  Second case DR 🇩🇴 The Canadian woman has not b...   \n",
       "2  1245941302367305728  Kill Chain: the cyber war on America's electio...   \n",
       "3  1245913002840391681  Town hosts FIRST #Virtual #TownCouncil meeting...   \n",
       "4  1240543259299987457  Report suggested that the actual number of und...   \n",
       "\n",
       "          labels  \n",
       "0  UNINFORMATIVE  \n",
       "1    INFORMATIVE  \n",
       "2  UNINFORMATIVE  \n",
       "3  UNINFORMATIVE  \n",
       "4  UNINFORMATIVE  "
      ]
     },
     "execution_count": 5,
     "metadata": {},
     "output_type": "execute_result"
    }
   ],
   "source": [
    "val_df.head(5)"
   ]
  },
  {
   "cell_type": "code",
   "execution_count": 7,
   "metadata": {},
   "outputs": [],
   "source": [
    "model_save_dir = '../models/model_withoutdrop/'"
   ]
  },
  {
   "cell_type": "code",
   "execution_count": null,
   "metadata": {},
   "outputs": [],
   "source": [
    "def captum_text_interpreter(text, model, bpetokenizer, idx2label, max_len=80, tokenizer=None, multiclass=False):\n",
    "    if type(text) == list:\n",
    "        text = \" \".join(text)\n",
    "\n",
    "    d = data_utils.process_data_for_transformers(text,bpetokenizer,tokenizer,0)\n",
    "    d = {\n",
    "            \"ids\": torch.tensor([d['ids']], dtype=torch.long),\n",
    "            \"mask\": torch.tensor([d['mask']], dtype=torch.long),\n",
    "            \"token_type_ids\": torch.tensor([d['token_type_ids']], dtype=torch.long)\n",
    "        }\n",
    "\n",
    "    try:\n",
    "        orig_tokens = [0] + bpetokenizer.encode(text).ids + [2]\n",
    "        orig_tokens  = [bpetokenizer.id_to_token(j) for j in orig_tokens]\n",
    "    except:\n",
    "        orig_tokens = tokenizer.tokenize(text,add_special_tokens=True)\n",
    "\n",
    "    model.eval()\n",
    "    if multiclass:\n",
    "    \tpreds_proba = torch.sigmoid(model(d[\"ids\"],d[\"mask\"],d[\"token_type_ids\"])).detach().cpu().numpy()\n",
    "    \tpreds = preds_proba.argmax(-1)\n",
    "    \tpreds_proba = preds_proba[0][preds[0][0]]\n",
    "    \tpredicted_class = idx2label[preds[0][0]]\n",
    "    else:\n",
    "    \tpreds_proba = torch.sigmoid(model(d[\"ids\"],d[\"mask\"],d[\"token_type_ids\"])).detach().cpu().numpy()\n",
    "    \tpreds = np.round(preds_proba)\n",
    "    \tpreds_proba = preds_proba[0][0]\n",
    "    \tpredicted_class = idx2label[preds[0][0]]\n",
    "\n",
    "    lig = LayerIntegratedGradients(model, model.base_model.embeddings)\n",
    "    \n",
    "    reference_indices = [0] + [1]*(d[\"ids\"].shape[1]-2) + [2]\n",
    "    reference_indices = torch.tensor([reference_indices], dtype=torch.long)\n",
    "    \n",
    "    attributions_ig, delta = lig.attribute(inputs=d[\"ids\"],baselines=reference_indices,additional_forward_args=(d[\"mask\"],d[\"token_type_ids\"]), \\\n",
    "                                           return_convergence_delta=True)\n",
    "    \n",
    "    attributions = attributions_ig.sum(dim=2).squeeze(0)\n",
    "    attributions = attributions / torch.norm(attributions)\n",
    "    attributions = attributions.detach().cpu().numpy()\n",
    "\n",
    "    visualization.visualize_text([visualization.VisualizationDataRecord(\n",
    "                            word_attributions=attributions,\n",
    "                            pred_prob=preds_proba,\n",
    "                            pred_class=predicted_class,\n",
    "                            true_class=predicted_class,\n",
    "                            attr_class=predicted_class,\n",
    "                            attr_score=attributions.sum(),       \n",
    "                            raw_input=orig_tokens,\n",
    "                            convergence_score=delta)])\n"
   ]
  }
 ],
 "metadata": {
  "kernelspec": {
   "display_name": "Python 3",
   "language": "python",
   "name": "python3"
  },
  "language_info": {
   "codemirror_mode": {
    "name": "ipython",
    "version": 3
   },
   "file_extension": ".py",
   "mimetype": "text/x-python",
   "name": "python",
   "nbconvert_exporter": "python",
   "pygments_lexer": "ipython3",
   "version": "3.7.1"
  }
 },
 "nbformat": 4,
 "nbformat_minor": 4
}
